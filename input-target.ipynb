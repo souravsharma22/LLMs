{
 "cells": [
  {
   "cell_type": "code",
   "execution_count": 17,
   "id": "ff0b62f4",
   "metadata": {},
   "outputs": [],
   "source": [
    "import tiktoken\n",
    "tokenizer = tiktoken.get_encoding(\"gpt2\")"
   ]
  },
  {
   "cell_type": "code",
   "execution_count": 18,
   "id": "0bf7421f",
   "metadata": {},
   "outputs": [],
   "source": [
    "with open(\"the-verdict.txt\",'r',encoding=\"utf-8\") as f:\n",
    "    text = f.read()\n",
    "\n",
    "enc_text= tokenizer.encode(text)"
   ]
  },
  {
   "cell_type": "code",
   "execution_count": 19,
   "id": "bb397331",
   "metadata": {},
   "outputs": [
    {
     "name": "stdout",
     "output_type": "stream",
     "text": [
      "5145\n"
     ]
    }
   ],
   "source": [
    "print(len(enc_text))"
   ]
  },
  {
   "cell_type": "code",
   "execution_count": 20,
   "id": "023f7e70",
   "metadata": {},
   "outputs": [],
   "source": [
    "enc_sample = enc_text[50:]"
   ]
  },
  {
   "cell_type": "code",
   "execution_count": 21,
   "id": "356c973c",
   "metadata": {},
   "outputs": [
    {
     "name": "stdout",
     "output_type": "stream",
     "text": [
      "x: [290, 4920, 2241, 287]\n",
      "y:      [4920, 2241, 287, 257]\n"
     ]
    }
   ],
   "source": [
    "context_size = 4\n",
    "# context size means how many words the model will look for predicting the next word in the sample\n",
    "x  = enc_sample[:context_size]\n",
    "y = enc_sample[1:context_size+1]\n",
    "# these are for example\n",
    "print(f\"x: {x}\")\n",
    "print(f\"y:      {y}\")"
   ]
  },
  {
   "cell_type": "markdown",
   "id": "be571be9",
   "metadata": {},
   "source": [
    "### for input 290 output will be 4920\n",
    "### for input [290,4920] output will be 2241\n",
    "### for input [290,4920,2241] output will be 287 .. and so on"
   ]
  },
  {
   "cell_type": "code",
   "execution_count": 22,
   "id": "5bce0bff",
   "metadata": {},
   "outputs": [
    {
     "name": "stdout",
     "output_type": "stream",
     "text": [
      "[290] ----> 4920\n",
      "[290, 4920] ----> 2241\n",
      "[290, 4920, 2241] ----> 287\n",
      "[290, 4920, 2241, 287] ----> 257\n"
     ]
    }
   ],
   "source": [
    "#denoting the above statement\n",
    "for i in range(1,context_size+1):\n",
    "    input = enc_sample[:i]\n",
    "    output = enc_sample[i]\n",
    "\n",
    "    print(input, \"---->\", output)"
   ]
  },
  {
   "cell_type": "code",
   "execution_count": 23,
   "id": "929ea4e4",
   "metadata": {},
   "outputs": [
    {
     "name": "stdout",
     "output_type": "stream",
     "text": [
      " and ---->  established\n",
      " and established ---->  himself\n",
      " and established himself ---->  in\n",
      " and established himself in ---->  a\n"
     ]
    }
   ],
   "source": [
    "# showing it in actual words\n",
    "for i in range(1,context_size+1):\n",
    "    input = enc_sample[:i]\n",
    "    output = enc_sample[i]\n",
    "\n",
    "    print(tokenizer.decode(input), \"---->\", tokenizer.decode([output]))"
   ]
  },
  {
   "cell_type": "code",
   "execution_count": 24,
   "id": "b349fe7b",
   "metadata": {},
   "outputs": [],
   "source": [
    "from torch.utils.data import Dataset , DataLoader"
   ]
  },
  {
   "cell_type": "code",
   "execution_count": 25,
   "id": "04dcf2e4",
   "metadata": {},
   "outputs": [],
   "source": [
    "import torch\n",
    "class GPTdatasetV1(Dataset):\n",
    "    def __init__(self,text,tokenizer,max_length,stride):\n",
    "        self.input_ids = []\n",
    "        self.output_ids =[]\n",
    "\n",
    "        token_ids = tokenizer.encode(text, allowed_special={\"<|endoftext|>\"})\n",
    "\n",
    "        for i in range(0,len(token_ids)-max_length,stride):\n",
    "            input_chunk = token_ids[i:i+max_length]\n",
    "            output_chunk = token_ids[i+1:i+max_length+1]\n",
    "            self.input_ids.append(torch.tensor(input_chunk))\n",
    "            self.output_ids.append(torch.tensor(output_chunk))\n",
    "    \n",
    "    def __len__(self):\n",
    "        return len(self.input_ids)\n",
    "    def __getitem__(self,idx):\n",
    "        return self.input_ids[idx], self.output_ids[idx]"
   ]
  },
  {
   "cell_type": "code",
   "execution_count": 26,
   "id": "369eed91",
   "metadata": {},
   "outputs": [],
   "source": [
    "def create_dataloader_v1(text,batch_size=4,max_length = 256,stride =128,shuffle = True,drop_last = True,num_workers =0):\n",
    "    tokenizer = tiktoken.get_encoding(\"gpt2\")\n",
    "    dataset = GPTdatasetV1(text,tokenizer,max_length, stride)\n",
    "    # creating dataloader\n",
    "    dataloader = DataLoader(dataset=dataset,\n",
    "                            batch_size=batch_size,\n",
    "                            shuffle=shuffle,\n",
    "                            drop_last=drop_last,\n",
    "                            num_workers=num_workers)\n",
    "    return dataloader"
   ]
  },
  {
   "cell_type": "code",
   "execution_count": 27,
   "id": "2bd8ca44",
   "metadata": {},
   "outputs": [],
   "source": [
    "with open(\"the-verdict.txt\",'r',encoding=\"utf-8\") as f:\n",
    "    raw_text = f.read()"
   ]
  },
  {
   "cell_type": "code",
   "execution_count": 30,
   "id": "c6fd1d67",
   "metadata": {},
   "outputs": [
    {
     "name": "stdout",
     "output_type": "stream",
     "text": [
      "PyToech Version: 2.5.1+cpu\n",
      "[tensor([[  40,  367, 2885, 1464]]), tensor([[ 367, 2885, 1464, 1807]])]\n"
     ]
    }
   ],
   "source": [
    "print(\"PyToech Version:\", torch.__version__)\n",
    "\n",
    "dataLoader = create_dataloader_v1(text=raw_text,batch_size=1,max_length=4,stride=1,shuffle=False)\n",
    "#creating a dataiterator for dataloader\n",
    "data_iterator = iter(dataLoader)\n",
    "first_batch = next(data_iterator)\n",
    "print(first_batch)"
   ]
  },
  {
   "cell_type": "code",
   "execution_count": 33,
   "id": "b840ee32",
   "metadata": {},
   "outputs": [
    {
     "name": "stdout",
     "output_type": "stream",
     "text": [
      "[tensor([[1464, 1807, 3619,  402]]), tensor([[1807, 3619,  402,  271]])]\n"
     ]
    }
   ],
   "source": [
    "nex_batch = next(data_iterator)\n",
    "print(nex_batch)\n",
    "#with every execution the iterator will move forward and we will get a new output"
   ]
  },
  {
   "cell_type": "code",
   "execution_count": 36,
   "id": "6d020806",
   "metadata": {},
   "outputs": [
    {
     "name": "stdout",
     "output_type": "stream",
     "text": [
      "Input:\n",
      " tensor([[   40,   367,  2885,  1464,  1807],\n",
      "        [ 1807,  3619,   402,   271, 10899],\n",
      "        [10899,  2138,   257,  7026, 15632],\n",
      "        [15632,   438,  2016,   257,   922],\n",
      "        [  922,  5891,  1576,   438,   568],\n",
      "        [  568,   340,   373,   645,  1049],\n",
      "        [ 1049,  5975,   284,   502,   284],\n",
      "        [  284,  3285,   326,    11,   287]])\n",
      "\n",
      "Otput:\n",
      " tensor([[  367,  2885,  1464,  1807,  3619],\n",
      "        [ 3619,   402,   271, 10899,  2138],\n",
      "        [ 2138,   257,  7026, 15632,   438],\n",
      "        [  438,  2016,   257,   922,  5891],\n",
      "        [ 5891,  1576,   438,   568,   340],\n",
      "        [  340,   373,   645,  1049,  5975],\n",
      "        [ 5975,   284,   502,   284,  3285],\n",
      "        [ 3285,   326,    11,   287,   262]])\n"
     ]
    }
   ],
   "source": [
    "dataloader1 = create_dataloader_v1(raw_text,batch_size=8,max_length=5,stride=4,shuffle=False)\n",
    "data_iter1 = iter(dataloader1)\n",
    "input,target = next(data_iter1)\n",
    "print(\"Input:\\n\",input)\n",
    "print(\"\\nOtput:\\n\",target)"
   ]
  },
  {
   "cell_type": "code",
   "execution_count": null,
   "id": "5a0e33dd",
   "metadata": {},
   "outputs": [],
   "source": []
  }
 ],
 "metadata": {
  "kernelspec": {
   "display_name": "base",
   "language": "python",
   "name": "python3"
  },
  "language_info": {
   "codemirror_mode": {
    "name": "ipython",
    "version": 3
   },
   "file_extension": ".py",
   "mimetype": "text/x-python",
   "name": "python",
   "nbconvert_exporter": "python",
   "pygments_lexer": "ipython3",
   "version": "3.11.7"
  }
 },
 "nbformat": 4,
 "nbformat_minor": 5
}
