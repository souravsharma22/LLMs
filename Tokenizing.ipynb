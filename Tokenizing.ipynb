{
 "cells": [
  {
   "cell_type": "code",
   "execution_count": 75,
   "id": "8b786522",
   "metadata": {},
   "outputs": [
    {
     "name": "stdout",
     "output_type": "stream",
     "text": [
      "The no of characters in the filr is  20479\n",
      "I HAD always thought Jack Gisburn rather a cheap genius--though a good fellow enough--so it was no \n"
     ]
    }
   ],
   "source": [
    "with open(\"the-verdict.txt\", \"r\", encoding=\"utf-8\") as f:\n",
    "    raw_text = f.read()\n",
    "print(\"The no of characters in the filr is \", len(raw_text) )\n",
    "print(raw_text[:99])\n"
   ]
  },
  {
   "cell_type": "code",
   "execution_count": 76,
   "id": "c6c7a0d1",
   "metadata": {},
   "outputs": [
    {
     "name": "stdout",
     "output_type": "stream",
     "text": [
      "['This', ' ', 'is', ' ', 'a', ' ', 'text', ',', '', ' ', 'this', ' ', 'is', ' ', 'for', '--', '', ' ', 'tedting', ' ', 'the', ' ', 'reg', '.', '', ' ', 'exp', '.', '', ' ', 'library', ',', '', ' ', 'really', '?', '']\n",
      "['This', 'is', 'a', 'text', ',', 'this', 'is', 'for', '--', 'tedting', 'the', 'reg', '.', 'exp', '.', 'library', ',', 'really', '?']\n"
     ]
    }
   ],
   "source": [
    "import re\n",
    "text = \"This is a text, this is for-- tedting the reg. exp. library, really?\"\n",
    "result  = re.split(r'([.\\',;?(:\"]|--|\\s)', text)\n",
    "print(result)\n",
    "#removing white spaces\n",
    "result1 = [token.strip() for token in result if token.strip()]\n",
    "print(result1)\n"
   ]
  },
  {
   "cell_type": "code",
   "execution_count": 77,
   "id": "9be290df",
   "metadata": {},
   "outputs": [
    {
     "name": "stdout",
     "output_type": "stream",
     "text": [
      "['I', 'HAD', 'always', 'thought', 'Jack', 'Gisburn', 'rather', 'a', 'cheap', 'genius', 'though', 'a', 'good', 'fellow', 'enough', 'so', 'it', 'was', 'no', 'great', 'surprise', 'to', 'me', 'to', 'hear', 'that', ',', 'in', 'the', 'height', 'of', 'his', 'glory', ',', 'he', 'had', 'dropped', 'his', 'painting', ',', 'married', 'a', 'rich', 'widow', ',', 'and', 'established', 'himself', 'in', 'a', 'villa', 'on', 'the', 'Riviera', '.', '(', 'Though', 'I', 'rather', 'thought', 'it', 'would', 'have', 'been', 'Rome', 'or', 'Florence', '.', ')', '\"', 'The', 'height', 'of', 'his', 'glory', '\"', 'that', 'was', 'what', 'the', 'women', 'called', 'it', '.', 'I', 'can', 'hear', 'Mrs', '.', 'Gideon', 'Thwing', 'his', 'last', 'Chicago', 'sitter', 'deploring', 'his', 'unaccountable', 'abdication', '.']\n",
      "4595\n"
     ]
    }
   ],
   "source": [
    "preprocessed = re.findall(r'\\w+|[.,:;\\'\"()!?_]', raw_text)\n",
    "preprocessed = [token.strip() for token in preprocessed if token.strip()]\n",
    "print(preprocessed[:100])\n",
    "print(len(preprocessed))"
   ]
  },
  {
   "cell_type": "code",
   "execution_count": 78,
   "id": "a52c64f9",
   "metadata": {},
   "outputs": [
    {
     "name": "stdout",
     "output_type": "stream",
     "text": [
      "1147\n"
     ]
    }
   ],
   "source": [
    "all_words  = sorted(set(preprocessed))\n",
    "vocal_size = len(all_words)\n",
    "print(vocal_size)"
   ]
  },
  {
   "cell_type": "code",
   "execution_count": 79,
   "id": "b4dc4961",
   "metadata": {},
   "outputs": [],
   "source": [
    "vocab = {token:tokenId for tokenId,token in enumerate(all_words)}"
   ]
  },
  {
   "cell_type": "code",
   "execution_count": 80,
   "id": "5f0cf377",
   "metadata": {},
   "outputs": [
    {
     "name": "stdout",
     "output_type": "stream",
     "text": [
      "! 0\n",
      "\" 1\n",
      "' 2\n",
      "( 3\n",
      ") 4\n",
      ", 5\n",
      ". 6\n",
      ": 7\n",
      "; 8\n",
      "? 9\n",
      "A 10\n",
      "Ah 11\n",
      "Among 12\n",
      "And 13\n",
      "Are 14\n",
      "Arrt 15\n",
      "As 16\n",
      "At 17\n",
      "Be 18\n",
      "Begin 19\n",
      "Burlington 20\n",
      "But 21\n",
      "By 22\n",
      "Carlo 23\n",
      "Chicago 24\n",
      "Claude 25\n"
     ]
    }
   ],
   "source": [
    "for token,id in vocab.items():\n",
    "    print(token,id)\n",
    "    if id>=25:\n",
    "        break\n"
   ]
  },
  {
   "cell_type": "code",
   "execution_count": 81,
   "id": "e72dc056",
   "metadata": {},
   "outputs": [],
   "source": [
    "class SimpleTokenizer:\n",
    "    def __init__(self,vocab):\n",
    "        self.str_to_int = vocab\n",
    "        self.int_to_str = {i:s for s,i in vocab.items()}\n",
    "    \n",
    "    def encode(self,text):\n",
    "        preprocessed =re.findall(r'\\w+|[.,:;\\'\"()!?_]', text)\n",
    "        # print(preprocessed)\n",
    "        preprocessed = [item.strip() for item in preprocessed if item.strip()]\n",
    "        ids = [self.str_to_int[s] for s in preprocessed]\n",
    "        # print(ids)\n",
    "        return ids\n",
    "    def decoder(self,ids):\n",
    "        text = \" \".join([self.int_to_str[i] for i in ids])\n",
    "        text = re.sub(r'\\s+([.,:;\\'\"?_()])', r'\\1', text)\n",
    "        return text\n"
   ]
  },
  {
   "cell_type": "code",
   "execution_count": 82,
   "id": "4b429e6c",
   "metadata": {},
   "outputs": [],
   "source": [
    "tokenizer = SimpleTokenizer(vocab)\n",
    "input_text = \"\"\"I found the couple at tea beneath their palm-trees; and Mrs. Gisburn's welcome was so genial that, in the ensuing weeks, I claimed it frequently. It was not that my hostess was \"interesting\": on that point I could have given Miss Croft the fullest reassurance. It was just because she was _not_ interesting--if I may be pardoned the bull--that I found her so. For Jack, all his life, had been surrounded by interesting women: they had fostered his art, it had been reared in the hot-house of their adulation. And it was therefore instructive to note what effect the \"deadening atmosphere of mediocrity\" (I quote Miss Croft) was having on him.\n",
    "\"\"\""
   ]
  },
  {
   "cell_type": "code",
   "execution_count": 83,
   "id": "8032a931",
   "metadata": {},
   "outputs": [
    {
     "name": "stdout",
     "output_type": "stream",
     "text": [
      "[52, 485, 1005, 313, 190, 992, 225, 1006, 764, 1047, 8, 169, 66, 6, 37, 2, 866, 1104, 1095, 924, 502, 1004, 5, 581, 1005, 410, 1103, 5, 52, 282, 598, 492, 6, 55, 1095, 724, 1004, 710, 567, 1095, 1, 591, 1, 7, 740, 1004, 794, 52, 309, 542, 508, 61, 27, 1005, 496, 840, 6, 55, 1095, 602, 215, 892, 1095, 121, 591, 579, 52, 674, 208, 769, 1005, 249, 1004, 52, 485, 551, 924, 6, 34, 56, 5, 158, 561, 634, 5, 529, 218, 980, 253, 591, 1129, 7, 1011, 529, 484, 561, 184, 5, 598, 529, 218, 838, 581, 1005, 568, 571, 735, 1006, 146, 6, 13, 598, 1095, 1010, 590, 1033, 725, 1107, 395, 1005, 1, 336, 191, 735, 678, 1, 3, 52, 830, 61, 27, 4, 1095, 544, 740, 558, 6]\n"
     ]
    }
   ],
   "source": [
    "ids = tokenizer.encode(input_text)\n",
    "print(ids)"
   ]
  },
  {
   "cell_type": "code",
   "execution_count": 84,
   "id": "831f0437",
   "metadata": {},
   "outputs": [
    {
     "data": {
      "text/plain": [
       "'I found the couple at tea beneath their palm trees; and Mrs. Gisburn\\' s welcome was so genial that, in the ensuing weeks, I claimed it frequently. It was not that my hostess was\" interesting\": on that point I could have given Miss Croft the fullest reassurance. It was just because she was_not_ interesting if I may be pardoned the bull that I found her so. For Jack, all his life, had been surrounded by interesting women: they had fostered his art, it had been reared in the hot house of their adulation. And it was therefore instructive to note what effect the\" deadening atmosphere of mediocrity\"( I quote Miss Croft) was having on him.'"
      ]
     },
     "execution_count": 84,
     "metadata": {},
     "output_type": "execute_result"
    }
   ],
   "source": [
    "tokenizer.decoder(ids)\n",
    "\n"
   ]
  },
  {
   "cell_type": "markdown",
   "id": "e544f914",
   "metadata": {},
   "source": [
    "#improving the tokenizer class to handel the unknown words and large vocabulary"
   ]
  },
  {
   "cell_type": "code",
   "execution_count": 85,
   "id": "1dce2ced",
   "metadata": {},
   "outputs": [
    {
     "name": "stdout",
     "output_type": "stream",
     "text": [
      "1149\n"
     ]
    }
   ],
   "source": [
    "all_words = sorted(list(set(preprocessed)))\n",
    "all_words.extend([\"<|endoftext|>\", \"<|unk|>\"])\n",
    "vocabulary = {word:id for id,word in enumerate(all_words)}\n",
    "print(len(vocabulary))"
   ]
  },
  {
   "cell_type": "code",
   "execution_count": 86,
   "id": "9b65636e",
   "metadata": {},
   "outputs": [
    {
     "name": "stdout",
     "output_type": "stream",
     "text": [
      "('younger', 1144)\n",
      "('your', 1145)\n",
      "('yourself', 1146)\n",
      "('<|endoftext|>', 1147)\n",
      "('<|unk|>', 1148)\n"
     ]
    }
   ],
   "source": [
    "for i,item in enumerate(list(vocabulary.items())[-5:]):\n",
    "    print(item)"
   ]
  },
  {
   "cell_type": "code",
   "execution_count": 89,
   "id": "89caca5a",
   "metadata": {},
   "outputs": [],
   "source": [
    "class SimpleTokenizerV2:\n",
    "    def __init__(self,vocab):\n",
    "        self.str_to_int = vocab\n",
    "        self.int_to_str = {i:s for s,i in vocab.items()}\n",
    "    \n",
    "    def encode(self,text):\n",
    "        preprocessed =re.findall(r'\\w+|[.,:;\\'\"()!?_]', text)\n",
    "        # print(preprocessed)\n",
    "        preprocessed = [item.strip() for item in preprocessed if item.strip()]\n",
    "        preprocessed =[item if item in self.str_to_int else \"<|unk|>\" for item in preprocessed]\n",
    "        ids = [self.str_to_int[s] for s in preprocessed]\n",
    "        # print(ids)\n",
    "        return ids\n",
    "    def decoder(self,ids):\n",
    "        text = \" \".join([self.int_to_str[i] for i in ids])\n",
    "        text = re.sub(r'\\s+([.,:;\\'\"?_()])', r'\\1', text)\n",
    "        return text\n"
   ]
  },
  {
   "cell_type": "code",
   "execution_count": 90,
   "id": "c2b3049d",
   "metadata": {},
   "outputs": [],
   "source": [
    "tokenizer2 = SimpleTokenizerV2(vocabulary)"
   ]
  },
  {
   "cell_type": "code",
   "execution_count": 91,
   "id": "bf1fe26a",
   "metadata": {},
   "outputs": [
    {
     "name": "stdout",
     "output_type": "stream",
     "text": [
      "Hello! do you like tea<|endoftext|>In the sunlit terraces of the palace\n"
     ]
    }
   ],
   "source": [
    "text1 = \"Hello! do you like tea\"\n",
    "text2  = \"In the sunlit terraces of the palace\"\n",
    "\n",
    "text_in  = \"<|endoftext|>\".join((text1,text2))\n",
    "print(text_in)"
   ]
  },
  {
   "cell_type": "code",
   "execution_count": 93,
   "id": "98343057",
   "metadata": {},
   "outputs": [
    {
     "name": "stdout",
     "output_type": "stream",
     "text": [
      "[1148, 0, 373, 1143, 639, 992, 1148, 54, 1005, 973, 1001, 735, 1005, 1148]\n"
     ]
    }
   ],
   "source": [
    "id1 = tokenizer2.encode(text_in)\n",
    "print(id1)"
   ]
  },
  {
   "cell_type": "code",
   "execution_count": 94,
   "id": "b70e6ba8",
   "metadata": {},
   "outputs": [
    {
     "ename": "KeyError",
     "evalue": "'Hello'",
     "output_type": "error",
     "traceback": [
      "\u001b[1;31m---------------------------------------------------------------------------\u001b[0m",
      "\u001b[1;31mKeyError\u001b[0m                                  Traceback (most recent call last)",
      "Cell \u001b[1;32mIn[94], line 2\u001b[0m\n\u001b[0;32m      1\u001b[0m \u001b[38;5;66;03m# trying to encode with previous tokenizer\u001b[39;00m\n\u001b[1;32m----> 2\u001b[0m \u001b[43mtokenizer\u001b[49m\u001b[38;5;241;43m.\u001b[39;49m\u001b[43mencode\u001b[49m\u001b[43m(\u001b[49m\u001b[43mtext_in\u001b[49m\u001b[43m)\u001b[49m\n",
      "Cell \u001b[1;32mIn[81], line 10\u001b[0m, in \u001b[0;36mSimpleTokenizer.encode\u001b[1;34m(self, text)\u001b[0m\n\u001b[0;32m      8\u001b[0m \u001b[38;5;66;03m# print(preprocessed)\u001b[39;00m\n\u001b[0;32m      9\u001b[0m preprocessed \u001b[38;5;241m=\u001b[39m [item\u001b[38;5;241m.\u001b[39mstrip() \u001b[38;5;28;01mfor\u001b[39;00m item \u001b[38;5;129;01min\u001b[39;00m preprocessed \u001b[38;5;28;01mif\u001b[39;00m item\u001b[38;5;241m.\u001b[39mstrip()]\n\u001b[1;32m---> 10\u001b[0m ids \u001b[38;5;241m=\u001b[39m \u001b[43m[\u001b[49m\u001b[38;5;28;43mself\u001b[39;49m\u001b[38;5;241;43m.\u001b[39;49m\u001b[43mstr_to_int\u001b[49m\u001b[43m[\u001b[49m\u001b[43ms\u001b[49m\u001b[43m]\u001b[49m\u001b[43m \u001b[49m\u001b[38;5;28;43;01mfor\u001b[39;49;00m\u001b[43m \u001b[49m\u001b[43ms\u001b[49m\u001b[43m \u001b[49m\u001b[38;5;129;43;01min\u001b[39;49;00m\u001b[43m \u001b[49m\u001b[43mpreprocessed\u001b[49m\u001b[43m]\u001b[49m\n\u001b[0;32m     11\u001b[0m \u001b[38;5;66;03m# print(ids)\u001b[39;00m\n\u001b[0;32m     12\u001b[0m \u001b[38;5;28;01mreturn\u001b[39;00m ids\n",
      "Cell \u001b[1;32mIn[81], line 10\u001b[0m, in \u001b[0;36m<listcomp>\u001b[1;34m(.0)\u001b[0m\n\u001b[0;32m      8\u001b[0m \u001b[38;5;66;03m# print(preprocessed)\u001b[39;00m\n\u001b[0;32m      9\u001b[0m preprocessed \u001b[38;5;241m=\u001b[39m [item\u001b[38;5;241m.\u001b[39mstrip() \u001b[38;5;28;01mfor\u001b[39;00m item \u001b[38;5;129;01min\u001b[39;00m preprocessed \u001b[38;5;28;01mif\u001b[39;00m item\u001b[38;5;241m.\u001b[39mstrip()]\n\u001b[1;32m---> 10\u001b[0m ids \u001b[38;5;241m=\u001b[39m [\u001b[38;5;28;43mself\u001b[39;49m\u001b[38;5;241;43m.\u001b[39;49m\u001b[43mstr_to_int\u001b[49m\u001b[43m[\u001b[49m\u001b[43ms\u001b[49m\u001b[43m]\u001b[49m \u001b[38;5;28;01mfor\u001b[39;00m s \u001b[38;5;129;01min\u001b[39;00m preprocessed]\n\u001b[0;32m     11\u001b[0m \u001b[38;5;66;03m# print(ids)\u001b[39;00m\n\u001b[0;32m     12\u001b[0m \u001b[38;5;28;01mreturn\u001b[39;00m ids\n",
      "\u001b[1;31mKeyError\u001b[0m: 'Hello'"
     ]
    }
   ],
   "source": [
    "# trying to encode with previous tokenizer\n",
    "tokenizer.encode(text_in)"
   ]
  },
  {
   "cell_type": "markdown",
   "id": "dbd1c99a",
   "metadata": {},
   "source": [
    "## we are getting error as hello was not in "
   ]
  },
  {
   "cell_type": "code",
   "execution_count": 95,
   "id": "ba97bd95",
   "metadata": {},
   "outputs": [
    {
     "data": {
      "text/plain": [
       "'<|unk|> ! do you like tea <|unk|> In the sunlit terraces of the <|unk|>'"
      ]
     },
     "execution_count": 95,
     "metadata": {},
     "output_type": "execute_result"
    }
   ],
   "source": [
    "tokenizer2.decoder(id1)"
   ]
  }
 ],
 "metadata": {
  "kernelspec": {
   "display_name": "base",
   "language": "python",
   "name": "python3"
  },
  "language_info": {
   "codemirror_mode": {
    "name": "ipython",
    "version": 3
   },
   "file_extension": ".py",
   "mimetype": "text/x-python",
   "name": "python",
   "nbconvert_exporter": "python",
   "pygments_lexer": "ipython3",
   "version": "3.11.7"
  }
 },
 "nbformat": 4,
 "nbformat_minor": 5
}
