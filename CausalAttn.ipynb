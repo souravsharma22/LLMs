{
 "cells": [
  {
   "cell_type": "code",
   "execution_count": 1,
   "id": "7013187d",
   "metadata": {},
   "outputs": [],
   "source": [
    "import torch\n",
    "\n",
    "inputs = torch.tensor([\n",
    "    [0.43,0.15,0.89],       # your\n",
    "    [0.55,0.87,0.66],       # journey\n",
    "    [0.57,0.85,0.64],       # starts\n",
    "    [0.22,0.58,0.33],       # with\n",
    "    [0.77,0.25,0.10],       # one\n",
    "    [0.05,0.80,0.55]        # step\n",
    "])"
   ]
  },
  {
   "cell_type": "code",
   "execution_count": 10,
   "id": "fb8a0401",
   "metadata": {},
   "outputs": [],
   "source": [
    "import torch.nn as nn\n",
    "\n",
    "class selfAttention_v2(nn.Module):\n",
    "    def __init__(self, d_in, d_out, qkv_bias = False):\n",
    "        super().__init__()\n",
    "        self.w_query = nn.Linear(d_in,d_out , bias=qkv_bias)\n",
    "        self.w_key = nn.Linear(d_in,d_out,bias=qkv_bias)\n",
    "        self.w_value = nn.Linear(d_in,d_out, bias=qkv_bias)\n",
    "\n",
    "    def forward(self, x):\n",
    "        query = self.w_query(x)\n",
    "        key = self.w_key(x)\n",
    "        value = self.w_value(x)\n",
    "\n",
    "        attn_score = query @ key.T\n",
    "        attn_weight = torch.softmax(attn_score/key.shape[-1]**0.5, dim=-1)\n",
    "\n",
    "        return attn_weight,attn_score"
   ]
  },
  {
   "cell_type": "code",
   "execution_count": 14,
   "id": "dec1ff7b",
   "metadata": {},
   "outputs": [
    {
     "name": "stdout",
     "output_type": "stream",
     "text": [
      "tensor([[0.1722, 0.1709, 0.1708, 0.1606, 0.1630, 0.1625],\n",
      "        [0.1656, 0.1669, 0.1668, 0.1674, 0.1647, 0.1685],\n",
      "        [0.1652, 0.1666, 0.1664, 0.1679, 0.1651, 0.1688],\n",
      "        [0.1663, 0.1672, 0.1671, 0.1668, 0.1650, 0.1677],\n",
      "        [0.1582, 0.1601, 0.1603, 0.1762, 0.1721, 0.1731],\n",
      "        [0.1703, 0.1706, 0.1704, 0.1622, 0.1614, 0.1651]],\n",
      "       grad_fn=<SoftmaxBackward0>)\n",
      "tensor([[ 0.1794,  0.1683,  0.1672,  0.0801,  0.1015,  0.0970],\n",
      "        [-0.0109,  0.0003, -0.0007,  0.0047, -0.0182,  0.0141],\n",
      "        [-0.0252, -0.0135, -0.0144, -0.0020, -0.0259,  0.0056],\n",
      "        [ 0.0054,  0.0127,  0.0119,  0.0094, -0.0058,  0.0175],\n",
      "        [-0.2754, -0.2580, -0.2564, -0.1227, -0.1563, -0.1482],\n",
      "        [ 0.1432,  0.1461,  0.1441,  0.0747,  0.0676,  0.0997]],\n",
      "       grad_fn=<MmBackward0>)\n"
     ]
    }
   ],
   "source": [
    "ca_v2 = selfAttention_v2(3,2)\n",
    "attn_weight,attn_score = ca_v2(inputs)\n",
    "print(attn_weight)\n",
    "print(attn_score)"
   ]
  },
  {
   "cell_type": "code",
   "execution_count": 7,
   "id": "5c505576",
   "metadata": {},
   "outputs": [
    {
     "data": {
      "text/plain": [
       "tensor(1., grad_fn=<SumBackward0>)"
      ]
     },
     "execution_count": 7,
     "metadata": {},
     "output_type": "execute_result"
    }
   ],
   "source": [
    "attn_weight[1].sum()"
   ]
  },
  {
   "cell_type": "code",
   "execution_count": 8,
   "id": "75108f43",
   "metadata": {},
   "outputs": [
    {
     "data": {
      "text/plain": [
       "tensor(1., grad_fn=<SumBackward1>)"
      ]
     },
     "execution_count": 8,
     "metadata": {},
     "output_type": "execute_result"
    }
   ],
   "source": [
    "attn_weight[1].sum(dim=-1)"
   ]
  },
  {
   "cell_type": "code",
   "execution_count": 12,
   "id": "deb65858",
   "metadata": {},
   "outputs": [
    {
     "name": "stdout",
     "output_type": "stream",
     "text": [
      "tensor([[1., 0., 0., 0., 0., 0.],\n",
      "        [1., 1., 0., 0., 0., 0.],\n",
      "        [1., 1., 1., 0., 0., 0.],\n",
      "        [1., 1., 1., 1., 0., 0.],\n",
      "        [1., 1., 1., 1., 1., 0.],\n",
      "        [1., 1., 1., 1., 1., 1.]])\n"
     ]
    }
   ],
   "source": [
    "context_length = attn_score.shape[0]\n",
    "mask_simple = torch.tril(torch.ones(context_length, context_length))\n",
    "print(mask_simple)"
   ]
  },
  {
   "cell_type": "code",
   "execution_count": 13,
   "id": "0bf61df0",
   "metadata": {},
   "outputs": [
    {
     "name": "stdout",
     "output_type": "stream",
     "text": [
      "tensor([[0.1602, 0.0000, 0.0000, 0.0000, 0.0000, 0.0000],\n",
      "        [0.1679, 0.1630, 0.0000, 0.0000, 0.0000, 0.0000],\n",
      "        [0.1679, 0.1630, 0.1629, 0.0000, 0.0000, 0.0000],\n",
      "        [0.1685, 0.1644, 0.1645, 0.1679, 0.0000, 0.0000],\n",
      "        [0.1674, 0.1643, 0.1643, 0.1689, 0.1663, 0.0000],\n",
      "        [0.1685, 0.1642, 0.1642, 0.1682, 0.1675, 0.1674]],\n",
      "       grad_fn=<MulBackward0>)\n"
     ]
    }
   ],
   "source": [
    "masked_simple = attn_weight* mask_simple\n",
    "print(masked_simple)"
   ]
  },
  {
   "cell_type": "code",
   "execution_count": 16,
   "id": "5a34a9bf",
   "metadata": {},
   "outputs": [
    {
     "name": "stdout",
     "output_type": "stream",
     "text": [
      "tensor([[1.0000, 0.0000, 0.0000, 0.0000, 0.0000, 0.0000],\n",
      "        [0.5074, 0.4926, 0.0000, 0.0000, 0.0000, 0.0000],\n",
      "        [0.3399, 0.3301, 0.3300, 0.0000, 0.0000, 0.0000],\n",
      "        [0.2533, 0.2472, 0.2472, 0.2523, 0.0000, 0.0000],\n",
      "        [0.2014, 0.1977, 0.1976, 0.2032, 0.2001, 0.0000],\n",
      "        [0.1685, 0.1642, 0.1642, 0.1682, 0.1675, 0.1674]],\n",
      "       grad_fn=<DivBackward0>)\n"
     ]
    }
   ],
   "source": [
    "## Normalization such that all element in a row sum up to one\n",
    "row_sums = masked_simple.sum(dim=1,keepdim=True)\n",
    "masked_weigths = masked_simple/row_sums\n",
    "print(masked_weigths)"
   ]
  },
  {
   "cell_type": "markdown",
   "id": "a2ff0233",
   "metadata": {},
   "source": [
    "### normalization before masking lead to data leakage, to prevent this we perform out operation on attn_score and after masking we do normalization"
   ]
  },
  {
   "cell_type": "code",
   "execution_count": 17,
   "id": "4ada6d71",
   "metadata": {},
   "outputs": [
    {
     "name": "stdout",
     "output_type": "stream",
     "text": [
      "tensor([[ 0.1794,  0.1683,  0.1672,  0.0801,  0.1015,  0.0970],\n",
      "        [-0.0109,  0.0003, -0.0007,  0.0047, -0.0182,  0.0141],\n",
      "        [-0.0252, -0.0135, -0.0144, -0.0020, -0.0259,  0.0056],\n",
      "        [ 0.0054,  0.0127,  0.0119,  0.0094, -0.0058,  0.0175],\n",
      "        [-0.2754, -0.2580, -0.2564, -0.1227, -0.1563, -0.1482],\n",
      "        [ 0.1432,  0.1461,  0.1441,  0.0747,  0.0676,  0.0997]],\n",
      "       grad_fn=<MmBackward0>)\n"
     ]
    }
   ],
   "source": [
    "print(attn_score)"
   ]
  },
  {
   "cell_type": "code",
   "execution_count": 18,
   "id": "a0bf28d2",
   "metadata": {},
   "outputs": [
    {
     "data": {
      "text/plain": [
       "tensor([[ 0.1794,    -inf,    -inf,    -inf,    -inf,    -inf],\n",
       "        [-0.0109,  0.0003,    -inf,    -inf,    -inf,    -inf],\n",
       "        [-0.0252, -0.0135, -0.0144,    -inf,    -inf,    -inf],\n",
       "        [ 0.0054,  0.0127,  0.0119,  0.0094,    -inf,    -inf],\n",
       "        [-0.2754, -0.2580, -0.2564, -0.1227, -0.1563,    -inf],\n",
       "        [ 0.1432,  0.1461,  0.1441,  0.0747,  0.0676,  0.0997]],\n",
       "       grad_fn=<MaskedFillBackward0>)"
      ]
     },
     "execution_count": 18,
     "metadata": {},
     "output_type": "execute_result"
    }
   ],
   "source": [
    "mask = torch.triu(torch.ones(context_length , context_length),diagonal=1)\n",
    "masked = attn_score.masked_fill(mask.bool(),-torch.inf)\n",
    "masked"
   ]
  },
  {
   "cell_type": "code",
   "execution_count": 20,
   "id": "ebb5fb3f",
   "metadata": {},
   "outputs": [
    {
     "name": "stdout",
     "output_type": "stream",
     "text": [
      "tensor([[0.1722, 0.1709, 0.1708, 0.1606, 0.1630, 0.1625],\n",
      "        [0.1656, 0.1669, 0.1668, 0.1674, 0.1647, 0.1685],\n",
      "        [0.1652, 0.1666, 0.1664, 0.1679, 0.1651, 0.1688],\n",
      "        [0.1663, 0.1672, 0.1671, 0.1668, 0.1650, 0.1677],\n",
      "        [0.1582, 0.1601, 0.1603, 0.1762, 0.1721, 0.1731],\n",
      "        [0.1703, 0.1706, 0.1704, 0.1622, 0.1614, 0.1651]],\n",
      "       grad_fn=<SoftmaxBackward0>)\n",
      "tensor([[1.0000, 0.0000, 0.0000, 0.0000, 0.0000, 0.0000],\n",
      "        [0.4980, 0.5020, 0.0000, 0.0000, 0.0000, 0.0000],\n",
      "        [0.3316, 0.3343, 0.3341, 0.0000, 0.0000, 0.0000],\n",
      "        [0.2492, 0.2505, 0.2504, 0.2499, 0.0000, 0.0000],\n",
      "        [0.1913, 0.1937, 0.1939, 0.2131, 0.2081, 0.0000],\n",
      "        [0.1703, 0.1706, 0.1704, 0.1622, 0.1614, 0.1651]],\n",
      "       grad_fn=<SoftmaxBackward0>)\n"
     ]
    }
   ],
   "source": [
    "attn_weight_masked = torch.softmax(masked/2**0.5,dim=-1)\n",
    "print(attn_weight)\n",
    "print(attn_weight_masked)"
   ]
  },
  {
   "cell_type": "markdown",
   "id": "07ff9db3",
   "metadata": {},
   "source": [
    "### Masking addtional attention weights with dropouts"
   ]
  },
  {
   "cell_type": "code",
   "execution_count": 21,
   "id": "0b5a6fcb",
   "metadata": {},
   "outputs": [
    {
     "name": "stdout",
     "output_type": "stream",
     "text": [
      "tensor([[2., 2., 2., 2., 2., 2.],\n",
      "        [0., 2., 0., 0., 0., 0.],\n",
      "        [0., 0., 2., 0., 2., 0.],\n",
      "        [2., 2., 0., 0., 0., 2.],\n",
      "        [2., 0., 0., 0., 0., 2.],\n",
      "        [0., 2., 0., 0., 0., 0.]])\n"
     ]
    }
   ],
   "source": [
    "## Example how droptouts to be implimneted in the matrix\n",
    "torch.manual_seed(123)\n",
    "dropout = torch.nn.Dropout(0.5)\n",
    "example = torch.ones(6,6)\n",
    "print(dropout(example))"
   ]
  },
  {
   "cell_type": "code",
   "execution_count": 23,
   "id": "340dfabd",
   "metadata": {},
   "outputs": [
    {
     "name": "stdout",
     "output_type": "stream",
     "text": [
      "tensor([[0.0000, 0.0000, 0.0000, 0.0000, 0.0000, 0.0000],\n",
      "        [0.0000, 1.0040, 0.0000, 0.0000, 0.0000, 0.0000],\n",
      "        [0.0000, 0.6686, 0.6682, 0.0000, 0.0000, 0.0000],\n",
      "        [0.0000, 0.5010, 0.5007, 0.0000, 0.0000, 0.0000],\n",
      "        [0.3826, 0.3873, 0.0000, 0.0000, 0.0000, 0.0000],\n",
      "        [0.0000, 0.3412, 0.3408, 0.0000, 0.3228, 0.3302]],\n",
      "       grad_fn=<MulBackward0>)\n"
     ]
    }
   ],
   "source": [
    "print(dropout(attn_weight_masked))"
   ]
  },
  {
   "cell_type": "markdown",
   "id": "842518b2",
   "metadata": {},
   "source": [
    "### creating a compact class for causal attention"
   ]
  },
  {
   "cell_type": "code",
   "execution_count": 32,
   "id": "6dcc8fdf",
   "metadata": {},
   "outputs": [],
   "source": [
    "class causal_attention(nn.Module):\n",
    "    def __init__(self,d_in,d_out,context_length,dropout,qkv_bias = False):\n",
    "        super().__init__()\n",
    "        self.d_out = d_out\n",
    "        # self.d_in = d_in\n",
    "        self.w_query = nn.Linear(d_in,d_out, bias=qkv_bias)\n",
    "        self.w_key = nn.Linear(d_in,d_out, bias=qkv_bias)\n",
    "        self.w_value = nn.Linear(d_in,d_out, bias=qkv_bias)\n",
    "        self.dropout = nn.Dropout(dropout)\n",
    "        self.register_buffer('mask',torch.triu(torch.ones(context_length,context_length),diagonal=1))\n",
    "\n",
    "    def forward(self,x):\n",
    "        b,num_tokens,d_in = x.shape\n",
    "        keys = self.w_key(x)\n",
    "        queries = self.w_query(x)\n",
    "        values = self.w_value(x)\n",
    "\n",
    "        attn_score = queries @ keys.transpose(1,2)\n",
    "        attn_score.masked_fill_(self.mask.bool()[:num_tokens, :num_tokens],-torch.inf)\n",
    "        attn_weight = torch.softmax(attn_score/keys.shape[-1]**0.5,dim=-1)\n",
    "        attn_weight = dropout(attn_weight)\n",
    "\n",
    "        context_vector = attn_weight @ values\n",
    "        return context_vector"
   ]
  },
  {
   "cell_type": "code",
   "execution_count": 33,
   "id": "48fec64c",
   "metadata": {},
   "outputs": [
    {
     "name": "stdout",
     "output_type": "stream",
     "text": [
      "torch.Size([2, 6, 3])\n"
     ]
    }
   ],
   "source": [
    "batch = torch.stack((inputs,inputs),dim=0)\n",
    "d_in = 3\n",
    "d_out =2\n",
    "print(batch.shape)\n"
   ]
  },
  {
   "cell_type": "code",
   "execution_count": 34,
   "id": "b8be4daa",
   "metadata": {},
   "outputs": [
    {
     "name": "stdout",
     "output_type": "stream",
     "text": [
      "torch.Size([2, 6, 2])\n"
     ]
    }
   ],
   "source": [
    "torch.manual_seed(123)\n",
    "context_length  = batch.shape[1]\n",
    "ca = causal_attention(d_in,d_out,context_length,0.0)\n",
    "context_vecs = ca(batch)\n",
    "print(context_vecs.shape)"
   ]
  },
  {
   "cell_type": "code",
   "execution_count": 35,
   "id": "4a84f251",
   "metadata": {},
   "outputs": [
    {
     "data": {
      "text/plain": [
       "tensor([[[ 0.0000,  0.0000],\n",
       "         [-0.4368,  0.2142],\n",
       "         [-0.7751,  0.0077],\n",
       "         [-0.9140, -0.2769],\n",
       "         [ 0.0000,  0.0000],\n",
       "         [-0.6906, -0.0974]],\n",
       "\n",
       "        [[-0.9038,  0.4432],\n",
       "         [ 0.0000,  0.0000],\n",
       "         [-0.2883,  0.1414],\n",
       "         [-0.9140, -0.2769],\n",
       "         [-0.4416, -0.1410],\n",
       "         [-0.5272, -0.1706]]], grad_fn=<UnsafeViewBackward0>)"
      ]
     },
     "execution_count": 35,
     "metadata": {},
     "output_type": "execute_result"
    }
   ],
   "source": [
    "context_vecs"
   ]
  },
  {
   "cell_type": "code",
   "execution_count": null,
   "id": "cfa2e181",
   "metadata": {},
   "outputs": [],
   "source": []
  }
 ],
 "metadata": {
  "kernelspec": {
   "display_name": "base",
   "language": "python",
   "name": "python3"
  },
  "language_info": {
   "codemirror_mode": {
    "name": "ipython",
    "version": 3
   },
   "file_extension": ".py",
   "mimetype": "text/x-python",
   "name": "python",
   "nbconvert_exporter": "python",
   "pygments_lexer": "ipython3",
   "version": "3.11.7"
  }
 },
 "nbformat": 4,
 "nbformat_minor": 5
}
