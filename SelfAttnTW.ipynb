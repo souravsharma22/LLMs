{
 "cells": [
  {
   "cell_type": "code",
   "execution_count": 26,
   "id": "6194ea84",
   "metadata": {},
   "outputs": [],
   "source": [
    "import torch\n",
    "\n",
    "inputs = torch.tensor([\n",
    "    [0.43,0.15,0.89],       # your\n",
    "    [0.55,0.87,0.66],       # journey\n",
    "    [0.57,0.85,0.64],       # starts\n",
    "    [0.22,0.58,0.33],       # with\n",
    "    [0.77,0.25,0.10],       # one\n",
    "    [0.05,0.80,0.55]        # step\n",
    "])"
   ]
  },
  {
   "cell_type": "code",
   "execution_count": 27,
   "id": "c62b53ef",
   "metadata": {},
   "outputs": [],
   "source": [
    "x_2= inputs[1]\n",
    "d_in = inputs.shape[1]\n",
    "d_out = 2"
   ]
  },
  {
   "cell_type": "code",
   "execution_count": 28,
   "id": "e5192e7c",
   "metadata": {},
   "outputs": [],
   "source": [
    "torch.manual_seed(123)\n",
    "w_q = torch.nn.Parameter(torch.rand(d_in,d_out),requires_grad=False)\n",
    "w_k = torch.nn.Parameter(torch.rand(d_in,d_out),requires_grad=False)\n",
    "w_v = torch.nn.Parameter(torch.rand(d_in,d_out),requires_grad=False)"
   ]
  },
  {
   "cell_type": "code",
   "execution_count": 29,
   "id": "5a5d3406",
   "metadata": {},
   "outputs": [
    {
     "name": "stdout",
     "output_type": "stream",
     "text": [
      "Parameter containing:\n",
      "tensor([[0.2961, 0.5166],\n",
      "        [0.2517, 0.6886],\n",
      "        [0.0740, 0.8665]]) Parameter containing:\n",
      "tensor([[0.1366, 0.1025],\n",
      "        [0.1841, 0.7264],\n",
      "        [0.3153, 0.6871]]) Parameter containing:\n",
      "tensor([[0.0756, 0.1966],\n",
      "        [0.3164, 0.4017],\n",
      "        [0.1186, 0.8274]])\n"
     ]
    }
   ],
   "source": [
    "print(w_q,w_k,w_v)"
   ]
  },
  {
   "cell_type": "code",
   "execution_count": 30,
   "id": "84387162",
   "metadata": {},
   "outputs": [
    {
     "name": "stdout",
     "output_type": "stream",
     "text": [
      "tensor([0.4306, 1.4551]) tensor([0.3951, 1.0037]) tensor([0.4433, 1.1419])\n"
     ]
    }
   ],
   "source": [
    "q2 =x_2 @ w_q\n",
    "k2 =x_2 @ w_k\n",
    "v2 =x_2 @ w_v\n",
    "print(q2,v2,k2)"
   ]
  },
  {
   "cell_type": "code",
   "execution_count": 31,
   "id": "cae2fa9f",
   "metadata": {},
   "outputs": [
    {
     "name": "stdout",
     "output_type": "stream",
     "text": [
      "query vextors are:\n",
      " tensor([[0.2309, 1.0966],\n",
      "        [0.4306, 1.4551],\n",
      "        [0.4300, 1.4343],\n",
      "        [0.2355, 0.7990],\n",
      "        [0.2983, 0.6565],\n",
      "        [0.2568, 1.0533]])\n",
      "key  vextors are:\n",
      " tensor([[0.3669, 0.7646],\n",
      "        [0.4433, 1.1419],\n",
      "        [0.4361, 1.1156],\n",
      "        [0.2408, 0.6706],\n",
      "        [0.1827, 0.3292],\n",
      "        [0.3275, 0.9642]])\n",
      "value vextors are:\n",
      " tensor([[0.1855, 0.8812],\n",
      "        [0.3951, 1.0037],\n",
      "        [0.3879, 0.9831],\n",
      "        [0.2393, 0.5493],\n",
      "        [0.1492, 0.3346],\n",
      "        [0.3221, 0.7863]])\n"
     ]
    }
   ],
   "source": [
    "# for whole inputs\n",
    "query = inputs @ w_q\n",
    "key = inputs @ w_k\n",
    "value = inputs @ w_v\n",
    "print(\"query vextors are:\\n\",query)\n",
    "print(\"key  vextors are:\\n\",key)\n",
    "print(\"value vextors are:\\n\",value)"
   ]
  },
  {
   "cell_type": "code",
   "execution_count": 32,
   "id": "7b410db1",
   "metadata": {},
   "outputs": [
    {
     "name": "stdout",
     "output_type": "stream",
     "text": [
      "tensor(1.8524)\n"
     ]
    }
   ],
   "source": [
    "key_2 = key[1]\n",
    "attn_score_22 = q2.dot(key_2)\n",
    "print(attn_score_22)"
   ]
  },
  {
   "cell_type": "code",
   "execution_count": 33,
   "id": "0774502d",
   "metadata": {},
   "outputs": [
    {
     "name": "stdout",
     "output_type": "stream",
     "text": [
      "tensor([1.2705, 1.8524, 1.8111, 1.0795, 0.5577, 1.5440])\n"
     ]
    }
   ],
   "source": [
    "attn_score_2 = q2 @ key.T\n",
    "print(attn_score_2)"
   ]
  },
  {
   "cell_type": "code",
   "execution_count": 34,
   "id": "79e3a7a1",
   "metadata": {},
   "outputs": [
    {
     "data": {
      "text/plain": [
       "tensor([[0.9231, 1.3545, 1.3241, 0.7910, 0.4032, 1.1330],\n",
       "        [1.2705, 1.8524, 1.8111, 1.0795, 0.5577, 1.5440],\n",
       "        [1.2544, 1.8284, 1.7877, 1.0654, 0.5508, 1.5238],\n",
       "        [0.6973, 1.0167, 0.9941, 0.5925, 0.3061, 0.8475],\n",
       "        [0.6114, 0.8819, 0.8626, 0.5121, 0.2707, 0.7307],\n",
       "        [0.8995, 1.3165, 1.2871, 0.7682, 0.3937, 1.0996]])"
      ]
     },
     "execution_count": 34,
     "metadata": {},
     "output_type": "execute_result"
    }
   ],
   "source": [
    "attn_score = query @ key.T\n",
    "attn_score"
   ]
  },
  {
   "cell_type": "code",
   "execution_count": 35,
   "id": "c59a2837",
   "metadata": {},
   "outputs": [
    {
     "name": "stdout",
     "output_type": "stream",
     "text": [
      "tensor([0.1500, 0.2264, 0.2199, 0.1311, 0.0906, 0.1820])\n",
      "tensor(1.)\n",
      "2\n"
     ]
    }
   ],
   "source": [
    "# scaling, division by sqrt(2) and then applying softmax\n",
    "# doing for one token, index 1 token\n",
    "d_k = key.shape[-1]\n",
    "attn_weight_2 = torch.softmax(attn_score_2/d_k**0.5, dim=-1)\n",
    "print(attn_weight_2)\n",
    "print(attn_weight_2.sum())\n",
    "print(d_k)"
   ]
  },
  {
   "cell_type": "code",
   "execution_count": 36,
   "id": "73688a49",
   "metadata": {},
   "outputs": [
    {
     "name": "stdout",
     "output_type": "stream",
     "text": [
      "tensor([0.3061, 0.8210])\n"
     ]
    }
   ],
   "source": [
    "# calculatinf context vector for 2nd token\n",
    "context_vec_2 = attn_weight_2 @ value\n",
    "print(context_vec_2)"
   ]
  },
  {
   "cell_type": "markdown",
   "id": "b832b13f",
   "metadata": {},
   "source": [
    "### Pyhton class for the whole process"
   ]
  },
  {
   "cell_type": "code",
   "execution_count": 37,
   "id": "74247f7e",
   "metadata": {},
   "outputs": [],
   "source": [
    "import torch.nn as nn\n",
    "\n",
    "class selfAttention_v1(nn.Module):\n",
    "    def __init__(self, d_in, d_out):\n",
    "        super().__init__()\n",
    "        self.w_query = nn.Parameter(torch.rand(d_in,d_out))\n",
    "        self.w_key = nn.Parameter(torch.rand(d_in,d_out))\n",
    "        self.w_value = nn.Parameter(torch.rand(d_in,d_out))\n",
    "\n",
    "    def forward(self, x):\n",
    "        query = x @ self.w_query\n",
    "        key = x @ self.w_key\n",
    "        value = x @ self.w_value\n",
    "\n",
    "        attn_score = query @ key.T\n",
    "        attn_weight = torch.softmax(attn_score/key.shape[-1]**0.5, dim=-1)\n",
    "        context_vec = attn_weight @ value\n",
    "\n",
    "        return context_vec "
   ]
  },
  {
   "cell_type": "code",
   "execution_count": 38,
   "id": "3c9591dc",
   "metadata": {},
   "outputs": [
    {
     "name": "stdout",
     "output_type": "stream",
     "text": [
      "tensor([[0.2996, 0.8053],\n",
      "        [0.3061, 0.8210],\n",
      "        [0.3058, 0.8203],\n",
      "        [0.2948, 0.7939],\n",
      "        [0.2927, 0.7891],\n",
      "        [0.2990, 0.8040]], grad_fn=<MmBackward0>)\n"
     ]
    }
   ],
   "source": [
    "torch.manual_seed(123)\n",
    "sa_c1 = selfAttention_v1(d_in=d_in,d_out=d_out)\n",
    "context_vec = sa_c1(inputs)\n",
    "print(context_vec)"
   ]
  },
  {
   "cell_type": "code",
   "execution_count": 39,
   "id": "78d42036",
   "metadata": {},
   "outputs": [],
   "source": [
    "import torch.nn as nn\n",
    "\n",
    "class selfAttention_v2(nn.Module):\n",
    "    def __init__(self, d_in, d_out, qkv_bias = False):\n",
    "        super().__init__()\n",
    "        self.w_query = nn.Linear(d_in,d_out , bias=qkv_bias)\n",
    "        self.w_key = nn.Linear(d_in,d_out,bias=qkv_bias)\n",
    "        self.w_value = nn.Linear(d_in,d_out, bias=qkv_bias)\n",
    "\n",
    "    def forward(self, x):\n",
    "        query = self.w_query(x)\n",
    "        key = self.w_key(x)\n",
    "        value = self.w_value(x)\n",
    "\n",
    "        attn_score = query @ key.T\n",
    "        attn_weight = torch.softmax(attn_score/key.shape[-1]**0.5, dim=-1)\n",
    "        context_vec = attn_weight @ value\n",
    "\n",
    "        return context_vec "
   ]
  },
  {
   "cell_type": "code",
   "execution_count": 40,
   "id": "4a44dbe6",
   "metadata": {},
   "outputs": [
    {
     "name": "stdout",
     "output_type": "stream",
     "text": [
      "tensor([[-0.5337, -0.1051],\n",
      "        [-0.5323, -0.1080],\n",
      "        [-0.5323, -0.1079],\n",
      "        [-0.5297, -0.1076],\n",
      "        [-0.5311, -0.1066],\n",
      "        [-0.5299, -0.1081]], grad_fn=<MmBackward0>)\n"
     ]
    }
   ],
   "source": [
    "torch.manual_seed(123)\n",
    "sa_v2 = selfAttention_v2(d_in=d_in,d_out=d_out)\n",
    "context_vec2 = sa_v2(inputs)\n",
    "print(context_vec2)"
   ]
  },
  {
   "cell_type": "code",
   "execution_count": null,
   "id": "ea493136",
   "metadata": {},
   "outputs": [],
   "source": []
  }
 ],
 "metadata": {
  "kernelspec": {
   "display_name": "base",
   "language": "python",
   "name": "python3"
  },
  "language_info": {
   "codemirror_mode": {
    "name": "ipython",
    "version": 3
   },
   "file_extension": ".py",
   "mimetype": "text/x-python",
   "name": "python",
   "nbconvert_exporter": "python",
   "pygments_lexer": "ipython3",
   "version": "3.11.7"
  }
 },
 "nbformat": 4,
 "nbformat_minor": 5
}
