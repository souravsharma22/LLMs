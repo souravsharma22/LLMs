{
 "cells": [
  {
   "cell_type": "code",
   "execution_count": 37,
   "id": "3c7f7c60",
   "metadata": {},
   "outputs": [],
   "source": [
    "import torch.nn as nn\n"
   ]
  },
  {
   "cell_type": "code",
   "execution_count": 38,
   "id": "0a3c3b02",
   "metadata": {},
   "outputs": [],
   "source": [
    "import torch\n",
    "class causal_attention(nn.Module):\n",
    "    def __init__(self,d_in,d_out,context_length,dropout,qkv_bias = False):\n",
    "        super().__init__()\n",
    "        self.d_out = d_out\n",
    "        # self.d_in = d_in\n",
    "        self.w_query = nn.Linear(d_in,d_out, bias=qkv_bias)\n",
    "        self.w_key = nn.Linear(d_in,d_out, bias=qkv_bias)\n",
    "        self.w_value = nn.Linear(d_in,d_out, bias=qkv_bias)\n",
    "        self.dropout = nn.Dropout(dropout)\n",
    "        self.register_buffer('mask',torch.triu(torch.ones(context_length,context_length),diagonal=1))\n",
    "\n",
    "    def forward(self,x):\n",
    "        b,num_tokens,d_in = x.shape\n",
    "        keys = self.w_key(x)\n",
    "        queries = self.w_query(x)\n",
    "        values = self.w_value(x)\n",
    "\n",
    "        attn_score = queries @ keys.transpose(1,2)\n",
    "        attn_score.masked_fill_(self.mask.bool()[:num_tokens, :num_tokens],-torch.inf)\n",
    "        attn_weight = torch.softmax(attn_score/keys.shape[-1]**0.5,dim=-1)\n",
    "        attn_weight = self.dropout(attn_weight)\n",
    "\n",
    "        context_vector = attn_weight @ values\n",
    "        return context_vector"
   ]
  },
  {
   "cell_type": "code",
   "execution_count": 39,
   "id": "96490000",
   "metadata": {},
   "outputs": [],
   "source": [
    "class MultiHeadAttention_v1(nn.Module):\n",
    "    def __init__(self,d_in,d_out,context_length,dropout,num_heads,qkv_bias = False):\n",
    "        super().__init__()\n",
    "        self.heads  = nn.ModuleList([causal_attention(d_in,d_out,context_length,dropout,qkv_bias) for _ in range(num_heads)])\n",
    "\n",
    "    def forward(self, x):\n",
    "        return torch.cat([head(x) for head in self.heads],dim=-1)"
   ]
  },
  {
   "cell_type": "code",
   "execution_count": 40,
   "id": "cbc8d21f",
   "metadata": {},
   "outputs": [],
   "source": [
    "import torch\n",
    "\n",
    "inputs = torch.tensor([\n",
    "    [0.43,0.15,0.89],       # your\n",
    "    [0.55,0.87,0.66],       # journey\n",
    "    [0.57,0.85,0.64],       # starts\n",
    "    [0.22,0.58,0.33],       # with\n",
    "    [0.77,0.25,0.10],       # one\n",
    "    [0.05,0.80,0.55]        # step\n",
    "])"
   ]
  },
  {
   "cell_type": "code",
   "execution_count": 41,
   "id": "3541c238",
   "metadata": {},
   "outputs": [
    {
     "name": "stdout",
     "output_type": "stream",
     "text": [
      "torch.Size([2, 6, 3])\n"
     ]
    }
   ],
   "source": [
    "batch = torch.stack((inputs,inputs),dim=0)\n",
    "print(batch.shape)"
   ]
  },
  {
   "cell_type": "code",
   "execution_count": 42,
   "id": "4509f493",
   "metadata": {},
   "outputs": [
    {
     "name": "stdout",
     "output_type": "stream",
     "text": [
      "tensor([[[-0.9038,  0.4432,  0.9544,  0.2127,  0.0000,  0.0000],\n",
      "         [-0.7381, -0.2026,  0.0000,  0.0000,  1.1584,  0.6021],\n",
      "         [-0.7751,  0.0077,  0.4847,  0.3565,  0.4538,  0.2094],\n",
      "         [-0.4090,  0.0315,  0.5655,  0.3037,  0.5935,  0.3046],\n",
      "         [-0.4745,  0.0076,  0.4557,  0.2409,  0.8967,  0.4397],\n",
      "         [-0.5318, -0.0458,  1.0153,  0.6987,  0.3049,  0.1135]],\n",
      "\n",
      "        [[ 0.0000,  0.0000,  0.9544,  0.2127,  0.9131,  0.5458],\n",
      "         [-0.7381, -0.2026,  1.1781,  0.6513,  0.6619,  0.3054],\n",
      "         [-0.2883,  0.1414,  0.7557,  0.4154,  1.2498,  0.6203],\n",
      "         [-1.1349, -0.1685,  0.8795,  0.6697,  0.5447,  0.2524],\n",
      "         [-0.3373, -0.1226,  0.2740,  0.2004,  0.9127,  0.3868],\n",
      "         [-0.6897, -0.0976,  0.6164,  0.4248,  0.3936,  0.2035]]],\n",
      "       grad_fn=<CatBackward0>)\n",
      "torch.Size([2, 6, 6])\n"
     ]
    }
   ],
   "source": [
    "## apllying multihead attention to this batch\n",
    "torch.manual_seed(123)\n",
    "context_length = batch.shape[1]\n",
    "d_in,d_out = 3,2\n",
    "mha =MultiHeadAttention_v1(d_in,d_out,context_length,0.5,num_heads=3)\n",
    "context_vextor = mha(batch)\n",
    "print(context_vextor)\n",
    "print(context_vextor.shape)\n"
   ]
  },
  {
   "cell_type": "markdown",
   "id": "d4919249",
   "metadata": {},
   "source": [
    "### Implimenting the multiple head attention in a class with weight split"
   ]
  },
  {
   "cell_type": "code",
   "execution_count": 54,
   "id": "1f7d10b0",
   "metadata": {},
   "outputs": [],
   "source": [
    "class MultiHeadAttention(nn.Module):\n",
    "    def __init__(self,d_in,d_out,context_length,dropout,num_heads,qkv_bias = False):\n",
    "        super().__init__()\n",
    "        assert(d_out % num_heads==0),\\\n",
    "            \"d_out must be divisible by nums head\"\n",
    "        \n",
    "        self.d_out = d_out\n",
    "        self.num_head = num_heads\n",
    "        self.head_dim = d_out//num_heads\n",
    "        # self.d_in = d_in\n",
    "        self.w_query = nn.Linear(d_in,d_out, bias=qkv_bias)\n",
    "        self.w_key = nn.Linear(d_in,d_out, bias=qkv_bias)\n",
    "        self.w_value = nn.Linear(d_in,d_out, bias=qkv_bias)\n",
    "\n",
    "        self.out_proj = nn.Linear(d_out, d_out)  # Linear layer to combine head outputs\n",
    "        self.dropout = nn.Dropout(dropout)\n",
    "        self.register_buffer('mask',torch.triu(torch.ones(context_length,context_length),diagonal=1))\n",
    "\n",
    "    def forward(self,x):\n",
    "        b,num_token,d_in = x.shape\n",
    "\n",
    "        keys = self.w_key(x) # Shape: (b, num_tokens, d_out)\n",
    "        queries = self.w_query(x)\n",
    "        values = self.w_value(x)\n",
    "\n",
    "        keys = keys.view(b,num_token,self.num_head,self.head_dim)\n",
    "        queries = queries.view(b,num_token,self.num_head,self.head_dim)\n",
    "        values = values.view(b,num_token,self.num_head,self.head_dim)\n",
    "\n",
    "        #grouping by num_heads\n",
    "        keys = keys.transpose(1,2)\n",
    "        values = values.transpose(1,2)\n",
    "        queries = queries.transpose(1,2)\n",
    "\n",
    "        # calculating attention score\n",
    "        attn_score = queries @ keys.transpose(2,3)\n",
    "\n",
    "        # calculating attention weigths,masking, scaling and dropout\n",
    "        mask_bool = self.mask.bool()[:num_token,:num_token]\n",
    "        attn_score= attn_score.masked_fill_(mask_bool, - torch.inf)\n",
    "        attn_weight = torch.softmax(attn_score/keys.shape[-1]**0.5, dim=-1)\n",
    "        attn_weight = self.dropout(attn_weight)\n",
    "        \n",
    "        #calculating the context vector\n",
    "        context_vector = attn_weight @ values #ntokn x ntoken * ntoken x head_dim\n",
    "        # trasposing to get all the context vextor togeth\n",
    "        context_vector = context_vector.transpose(1,2)\n",
    "\n",
    "        # combining heads \n",
    "        context_vector = context_vector.contiguous().view(b,num_token,self.d_out)\n",
    "        context_vector = self.out_proj(context_vector) # optional projection\n",
    "        return context_vector"
   ]
  },
  {
   "cell_type": "code",
   "execution_count": 61,
   "id": "58aa61d9",
   "metadata": {},
   "outputs": [
    {
     "name": "stdout",
     "output_type": "stream",
     "text": [
      "tensor([[[ 0.0766,  0.0755, -0.0321],\n",
      "         [ 0.0311,  0.1048, -0.0368],\n",
      "         [ 0.0165,  0.1088, -0.0409],\n",
      "         [-0.0470,  0.0841, -0.0825],\n",
      "         [-0.1018,  0.0327, -0.1292],\n",
      "         [-0.1060,  0.0508, -0.1246]],\n",
      "\n",
      "        [[ 0.0766,  0.0755, -0.0321],\n",
      "         [ 0.0311,  0.1048, -0.0368],\n",
      "         [ 0.0165,  0.1088, -0.0409],\n",
      "         [-0.0470,  0.0841, -0.0825],\n",
      "         [-0.1018,  0.0327, -0.1292],\n",
      "         [-0.1060,  0.0508, -0.1246]]], grad_fn=<ViewBackward0>)\n",
      "context_vecs.shape: torch.Size([2, 6, 3])\n"
     ]
    }
   ],
   "source": [
    "torch.manual_seed(123)\n",
    "batch = torch.stack((inputs,inputs),dim=0)\n",
    "batch_size, context_length, d_in = batch.shape\n",
    "d_out = 3\n",
    "mha = MultiHeadAttention(d_in, d_out, context_length, 0.0, num_heads=3)\n",
    "context_vecs = mha(batch)\n",
    "print(context_vecs)\n",
    "print(\"context_vecs.shape:\", context_vecs.shape)"
   ]
  },
  {
   "cell_type": "code",
   "execution_count": null,
   "id": "c54a0857",
   "metadata": {},
   "outputs": [],
   "source": []
  }
 ],
 "metadata": {
  "kernelspec": {
   "display_name": "base",
   "language": "python",
   "name": "python3"
  },
  "language_info": {
   "codemirror_mode": {
    "name": "ipython",
    "version": 3
   },
   "file_extension": ".py",
   "mimetype": "text/x-python",
   "name": "python",
   "nbconvert_exporter": "python",
   "pygments_lexer": "ipython3",
   "version": "3.11.7"
  }
 },
 "nbformat": 4,
 "nbformat_minor": 5
}
