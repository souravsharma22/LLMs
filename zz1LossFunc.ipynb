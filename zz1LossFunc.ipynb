{
 "cells": [
  {
   "cell_type": "code",
   "execution_count": 5,
   "id": "4b184d60",
   "metadata": {},
   "outputs": [],
   "source": [
    "import torch\n",
    "import torch.nn as nn"
   ]
  },
  {
   "cell_type": "code",
   "execution_count": 6,
   "id": "43560d02",
   "metadata": {},
   "outputs": [],
   "source": [
    "# gpt-2 configurations\n",
    "GPT_CONFIG_124= {\n",
    "    'vocab_size' :50257,\n",
    "    'context_length': 1024,\n",
    "    'emb_dim':768,\n",
    "    'n_heads':12,\n",
    "    'n_layers':12,\n",
    "    'drop_rate':0.1,\n",
    "    'qkv_bias':False\n",
    "}"
   ]
  },
  {
   "cell_type": "code",
   "execution_count": 7,
   "id": "b6bd1a20",
   "metadata": {},
   "outputs": [],
   "source": [
    "#GELU Activation function\n",
    "class GELU(nn.Module):\n",
    "    def __init__(self,):\n",
    "        super().__init__()\n",
    "    def forward(self, x):\n",
    "        return 0.5*x*(1+torch.tanh(torch.sqrt(torch.tensor(2.0/torch.pi))*(x+0.0447*torch.pow(x,3))))"
   ]
  },
  {
   "cell_type": "code",
   "execution_count": 8,
   "id": "21773e2e",
   "metadata": {},
   "outputs": [],
   "source": [
    "#Feed Forward Neural network\n",
    "class FeedForward(nn.Module):\n",
    "    def __init__(self, cfg):\n",
    "        super().__init__()\n",
    "        self.layers = nn.Sequential(nn.Linear(cfg['emb_dim'], 4*cfg['emb_dim']), #incresing dimesion\n",
    "                                    GELU(),\n",
    "                                    nn.Linear(4*cfg['emb_dim'],cfg['emb_dim']))  #coming back to original dimension\n",
    "    def forward(self,x):\n",
    "        return self.layers(x)"
   ]
  },
  {
   "cell_type": "code",
   "execution_count": 9,
   "id": "eca06fe5",
   "metadata": {},
   "outputs": [],
   "source": [
    "# Layer Normalization\n",
    "class LayerNorm(nn.Module):\n",
    "    def __init__(self, emd_dim):\n",
    "        super().__init__()\n",
    "        self.eps = 1e-5\n",
    "        self.scale = nn.Parameter(torch.ones(emd_dim))\n",
    "        self.shift = nn.Parameter(torch.zeros(emd_dim))\n",
    "    def forward(self, x):\n",
    "        mean = x.mean(dim = -1, keepdim =True)\n",
    "        var = x.var(dim =-1, keepdim = True, unbiased= False)\n",
    "        norm_x = (x-mean)/(torch.sqrt(var+self.eps))\n",
    "        return self.scale*norm_x + self.shift"
   ]
  },
  {
   "cell_type": "code",
   "execution_count": 10,
   "id": "75c1b048",
   "metadata": {},
   "outputs": [],
   "source": [
    "class MultiHeadAttention(nn.Module):\n",
    "    def __init__(self,d_in,d_out,context_length,dropout,num_heads,qkv_bias = False):\n",
    "        super().__init__()\n",
    "        assert(d_out % num_heads==0),\\\n",
    "            \"d_out must be divisible by nums head\"\n",
    "        \n",
    "        self.d_out = d_out\n",
    "        self.num_head = num_heads\n",
    "        self.head_dim = d_out//num_heads\n",
    "        # self.d_in = d_in\n",
    "        self.w_query = nn.Linear(d_in,d_out, bias=qkv_bias)\n",
    "        self.w_key = nn.Linear(d_in,d_out, bias=qkv_bias)\n",
    "        self.w_value = nn.Linear(d_in,d_out, bias=qkv_bias)\n",
    "\n",
    "        self.out_proj = nn.Linear(d_out, d_out)  # Linear layer to combine head outputs\n",
    "        self.dropout = nn.Dropout(dropout)\n",
    "        self.register_buffer('mask',torch.triu(torch.ones(context_length,context_length),diagonal=1))\n",
    "\n",
    "    def forward(self,x):\n",
    "        b,num_token,d_in = x.shape\n",
    "\n",
    "        keys = self.w_key(x) # Shape: (b, num_tokens, d_out)\n",
    "        queries = self.w_query(x)\n",
    "        values = self.w_value(x)\n",
    "\n",
    "        keys = keys.view(b,num_token,self.num_head,self.head_dim)\n",
    "        queries = queries.view(b,num_token,self.num_head,self.head_dim)\n",
    "        values = values.view(b,num_token,self.num_head,self.head_dim)\n",
    "\n",
    "        #grouping by num_heads\n",
    "        keys = keys.transpose(1,2)\n",
    "        values = values.transpose(1,2)\n",
    "        queries = queries.transpose(1,2)\n",
    "\n",
    "        # calculating attention score\n",
    "        attn_score = queries @ keys.transpose(2,3)\n",
    "\n",
    "        # calculating attention weigths,masking, scaling and dropout\n",
    "        mask_bool = self.mask.bool()[:num_token,:num_token]\n",
    "        attn_score= attn_score.masked_fill_(mask_bool, - torch.inf)\n",
    "        attn_weight = torch.softmax(attn_score/keys.shape[-1]**0.5, dim=-1)\n",
    "        attn_weight = self.dropout(attn_weight)\n",
    "        \n",
    "        #calculating the context vector\n",
    "        context_vector = attn_weight @ values #ntokn x ntoken * ntoken x head_dim\n",
    "        # trasposing to get all the context vextor togeth\n",
    "        context_vector = context_vector.transpose(1,2)\n",
    "\n",
    "        # combining heads \n",
    "        context_vector = context_vector.contiguous().view(b,num_token,self.d_out)\n",
    "        context_vector = self.out_proj(context_vector) # optional projection\n",
    "        return context_vector"
   ]
  },
  {
   "cell_type": "code",
   "execution_count": 11,
   "id": "f237b17a",
   "metadata": {},
   "outputs": [],
   "source": [
    "class TransformerBlock(nn.Module):\n",
    "    def __init__(self,cfg):\n",
    "        super().__init__()\n",
    "        self.attn = MultiHeadAttention(d_in=cfg['emb_dim'], d_out= cfg['emb_dim'],\n",
    "                                       context_length=cfg['context_length'],\n",
    "                                       num_heads=cfg['n_heads'], dropout= cfg['drop_rate'],\n",
    "                                       qkv_bias= cfg['qkv_bias'])\n",
    "        self.ff = FeedForward(cfg=cfg)\n",
    "        self.norm1 = LayerNorm(emd_dim=cfg['emb_dim'])\n",
    "        self.norm2 = LayerNorm(emd_dim=cfg['emb_dim'])\n",
    "\n",
    "        self.drop_shortcut  = nn.Dropout(cfg['drop_rate'])\n",
    "    \n",
    "    def forward(self,x):\n",
    "        shortcut = x\n",
    "        x= self.norm1(x)\n",
    "        x = self.attn(x)\n",
    "        x = self.drop_shortcut(x)\n",
    "\n",
    "        x = x+ shortcut\n",
    "\n",
    "        shortcut =x\n",
    "        x = self.norm2(x)\n",
    "        x = self.ff(x)\n",
    "        x = self.drop_shortcut(x)\n",
    "        x = x + shortcut\n",
    "\n",
    "        return x\n"
   ]
  },
  {
   "cell_type": "code",
   "execution_count": 12,
   "id": "8a88ee39",
   "metadata": {},
   "outputs": [],
   "source": [
    "class GPTModel(nn.Module):\n",
    "    def __init__(self,cfg):\n",
    "        super().__init__()\n",
    "        self.tok_emb = nn.Embedding(cfg['vocab_size'], cfg['emb_dim'])\n",
    "        self.pos_emb = nn.Embedding(cfg['context_length'], cfg['emb_dim'])\n",
    "        self.drop_emb = nn.Dropout(cfg['drop_rate'])\n",
    "        self.trf_blocks = nn.Sequential(*[TransformerBlock(cfg) for _ in range(cfg['n_layers'])])\n",
    "        self.final_norm  = LayerNorm(cfg['emb_dim'])\n",
    "        self.out_head = nn.Linear(cfg['emb_dim'],cfg['vocab_size'], bias=False)\n",
    "    def forward(self,in_idx):\n",
    "        batch_size, seq_len = in_idx.shape\n",
    "        token_embded = self.tok_emb(in_idx)\n",
    "        pos_embded = self.pos_emb(torch.arange(seq_len, device=in_idx.device))\n",
    "        x = token_embded+pos_embded\n",
    "        x = self.drop_emb(x)\n",
    "        x = self.trf_blocks(x)\n",
    "        x = self.final_norm(x)\n",
    "        logits = self.out_head(x)\n",
    "        return logits\n",
    "\n"
   ]
  },
  {
   "cell_type": "code",
   "execution_count": 13,
   "id": "e51a36fc",
   "metadata": {},
   "outputs": [],
   "source": [
    "# gpt-2 configurations\n",
    "GPT_CONFIG_124M= {\n",
    "    'vocab_size' :50257,\n",
    "    'context_length': 256,\n",
    "    'emb_dim':768,\n",
    "    'n_heads':12,\n",
    "    'n_layers':12,\n",
    "    'drop_rate':0.1,\n",
    "    'qkv_bias':False\n",
    "}"
   ]
  },
  {
   "cell_type": "code",
   "execution_count": 14,
   "id": "ee66afb7",
   "metadata": {},
   "outputs": [],
   "source": [
    "torch.manual_seed(123)\n",
    "model = GPTModel(GPT_CONFIG_124M)"
   ]
  },
  {
   "cell_type": "code",
   "execution_count": 15,
   "id": "3ad6a0e7",
   "metadata": {},
   "outputs": [],
   "source": [
    "def generate_text_simple(model, idx, max_words, context_size):\n",
    "\n",
    "    for _  in range(max_words):\n",
    "        idx_cond = idx[:,-context_size:]\n",
    "        with torch.no_grad():\n",
    "            logits = model(idx_cond)\n",
    "        logits = logits[:,-1,:]\n",
    "        probas = torch.softmax(logits,dim=-1)\n",
    "        idx_next = torch.argmax(probas,dim=-1,keepdim=True)\n",
    "        idx = torch.cat((idx,idx_next), dim=1)\n",
    "    return idx"
   ]
  },
  {
   "cell_type": "code",
   "execution_count": 16,
   "id": "ddc54d9d",
   "metadata": {},
   "outputs": [],
   "source": [
    "import tiktoken\n",
    "tokenizer = tiktoken.get_encoding(\"gpt2\")"
   ]
  },
  {
   "cell_type": "code",
   "execution_count": 17,
   "id": "150690f9",
   "metadata": {},
   "outputs": [],
   "source": [
    "def text_to_token(text, tokenizer):\n",
    "    encoded = tokenizer.encode(text, allowed_special={'<|endoftext|>'})\n",
    "    encoded_tensor = torch.tensor(encoded).unsqueeze(0)\n",
    "    return encoded_tensor\n",
    "def token_to_text(ids, tokenizer):\n",
    "    flat = ids.squeeze(0)\n",
    "    return tokenizer.decode(flat.tolist())"
   ]
  },
  {
   "cell_type": "code",
   "execution_count": 18,
   "id": "ac0a73ba",
   "metadata": {},
   "outputs": [
    {
     "name": "stdout",
     "output_type": "stream",
     "text": [
      "tensor([[6109, 3626, 6100],\n",
      "        [  40, 1107,  588]])\n"
     ]
    }
   ],
   "source": [
    "batch = []\n",
    "out_batch =[]\n",
    "txt1 = \"Every effort moves\"\n",
    "txt2 = \"I really like\"\n",
    "batch.append(torch.tensor(tokenizer.encode(txt1)))\n",
    "batch.append(torch.tensor(tokenizer.encode(txt2)))\n",
    "batch = torch.stack(batch, dim=0)\n",
    "print(batch)\n"
   ]
  },
  {
   "cell_type": "code",
   "execution_count": 19,
   "id": "36176257",
   "metadata": {},
   "outputs": [
    {
     "data": {
      "text/plain": [
       "tensor([[ 3626,  6100,   345],\n",
       "        [ 1107,   588, 11311]])"
      ]
     },
     "execution_count": 19,
     "metadata": {},
     "output_type": "execute_result"
    }
   ],
   "source": [
    "output = torch.tensor([[3626,6100,345],\n",
    "                       [1107,588,11311]])\n",
    "output"
   ]
  },
  {
   "cell_type": "code",
   "execution_count": 20,
   "id": "e20addf4",
   "metadata": {},
   "outputs": [
    {
     "data": {
      "text/plain": [
       "torch.Size([2, 3, 50257])"
      ]
     },
     "execution_count": 20,
     "metadata": {},
     "output_type": "execute_result"
    }
   ],
   "source": [
    "with torch.no_grad():\n",
    "    logits = model(batch)\n",
    "probas = torch.softmax(logits,dim=-1)\n",
    "probas.shape"
   ]
  },
  {
   "cell_type": "code",
   "execution_count": 21,
   "id": "efe3bc7a",
   "metadata": {},
   "outputs": [
    {
     "name": "stdout",
     "output_type": "stream",
     "text": [
      "tensor([[[31093],\n",
      "         [16031],\n",
      "         [44376]],\n",
      "\n",
      "        [[49906],\n",
      "         [ 3684],\n",
      "         [38185]]])\n"
     ]
    }
   ],
   "source": [
    "token_ids = torch.argmax(probas,dim=-1,keepdim=True)\n",
    "print(token_ids)"
   ]
  },
  {
   "cell_type": "code",
   "execution_count": 22,
   "id": "4b32c933",
   "metadata": {},
   "outputs": [
    {
     "name": "stdout",
     "output_type": "stream",
     "text": [
      "Targrt batch1:  effort moves you\n",
      "prediction batch1:  moons saves inaction\n"
     ]
    }
   ],
   "source": [
    "print(\"Targrt batch1:\", token_to_text(output[0],tokenizer))\n",
    "print(\"prediction batch1:\", token_to_text(token_ids[0].flatten(),tokenizer))"
   ]
  },
  {
   "cell_type": "markdown",
   "id": "22a31cb0",
   "metadata": {},
   "source": [
    "### Cross Entropy Loss"
   ]
  },
  {
   "cell_type": "code",
   "execution_count": 23,
   "id": "7bccb9ff",
   "metadata": {},
   "outputs": [
    {
     "name": "stdout",
     "output_type": "stream",
     "text": [
      "Text 1: tensor([3.1416e-05, 2.0867e-05, 1.1188e-05])\n",
      "Text 2:  tensor([1.3012e-05, 6.0395e-05, 4.8063e-06])\n"
     ]
    }
   ],
   "source": [
    "text_idx = 0\n",
    "target_proba_1 = probas[text_idx, [0,1,2], output[text_idx]]\n",
    "print(\"Text 1:\", target_proba_1)\n",
    "\n",
    "text_idx = 1\n",
    "target_proba_2 = probas[text_idx, [0,1,2], output[text_idx]]\n",
    "print(\"Text 2: \", target_proba_2)"
   ]
  },
  {
   "cell_type": "code",
   "execution_count": 24,
   "id": "29c8dedd",
   "metadata": {},
   "outputs": [
    {
     "name": "stdout",
     "output_type": "stream",
     "text": [
      "tensor([-10.3682, -10.7774, -11.4007, -11.2496,  -9.7146, -12.2456])\n",
      "tensor(-10.9593)\n",
      "tensor(10.9593)\n"
     ]
    }
   ],
   "source": [
    "log_proba = torch.log(torch.cat((target_proba_1,target_proba_2)))\n",
    "print(log_proba)\n",
    "avg_log_proba = torch.mean(log_proba)\n",
    "print(avg_log_proba)\n",
    "neg_log_proba = avg_log_proba*-1\n",
    "print(neg_log_proba)"
   ]
  },
  {
   "cell_type": "code",
   "execution_count": 25,
   "id": "be1f4be5",
   "metadata": {},
   "outputs": [
    {
     "name": "stdout",
     "output_type": "stream",
     "text": [
      "tensor(10.9593)\n"
     ]
    }
   ],
   "source": [
    "# doing these all with onliner \n",
    "target_flat = output.flatten()\n",
    "logits_flat = logits.flatten(0,1)\n",
    "loss = torch.nn.functional.cross_entropy(logits_flat,target_flat)\n",
    "print(loss)"
   ]
  },
  {
   "cell_type": "markdown",
   "id": "731f3a74",
   "metadata": {},
   "source": [
    "### Perplexity"
   ]
  },
  {
   "cell_type": "code",
   "execution_count": 26,
   "id": "bf19bcb1",
   "metadata": {},
   "outputs": [],
   "source": [
    "p_loss = torch.exp(loss)"
   ]
  },
  {
   "cell_type": "code",
   "execution_count": 27,
   "id": "aed9b300",
   "metadata": {},
   "outputs": [
    {
     "data": {
      "text/plain": [
       "tensor(57488.4375)"
      ]
     },
     "execution_count": 27,
     "metadata": {},
     "output_type": "execute_result"
    }
   ],
   "source": [
    "p_loss"
   ]
  },
  {
   "cell_type": "markdown",
   "id": "2bace4dd",
   "metadata": {},
   "source": [
    "### Calculating the loss for the entire dataset"
   ]
  },
  {
   "cell_type": "code",
   "execution_count": 28,
   "id": "69113dea",
   "metadata": {},
   "outputs": [],
   "source": [
    "import os\n",
    "with open(\"the-verdict.txt\", 'r', encoding= 'utf-8') as f:\n",
    "    raw_data = f.read()\n",
    "# print(raw_data)"
   ]
  },
  {
   "cell_type": "code",
   "execution_count": 29,
   "id": "c1c92974",
   "metadata": {},
   "outputs": [
    {
     "data": {
      "text/plain": [
       "'I HAD always thought Jack'"
      ]
     },
     "execution_count": 29,
     "metadata": {},
     "output_type": "execute_result"
    }
   ],
   "source": [
    "raw_data[:25]"
   ]
  },
  {
   "cell_type": "code",
   "execution_count": 30,
   "id": "054cce00",
   "metadata": {},
   "outputs": [
    {
     "name": "stdout",
     "output_type": "stream",
     "text": [
      "20479\n"
     ]
    }
   ],
   "source": [
    "print(len(raw_data))"
   ]
  },
  {
   "cell_type": "code",
   "execution_count": 32,
   "id": "7d71800f",
   "metadata": {},
   "outputs": [
    {
     "name": "stdout",
     "output_type": "stream",
     "text": [
      "No of tokens: 5145\n"
     ]
    }
   ],
   "source": [
    "print(\"No of tokens:\" , len(tokenizer.encode(raw_data)))"
   ]
  },
  {
   "cell_type": "code",
   "execution_count": 37,
   "id": "0df94d08",
   "metadata": {},
   "outputs": [],
   "source": [
    "from torch.utils.data import Dataset, DataLoader\n",
    "\n",
    "class GPTDatasetV1(Dataset):\n",
    "    def __init__(self,text, tokenizer, max_length, stride):\n",
    "        self.input_ids = []\n",
    "        self.target_ids= []\n",
    "\n",
    "        token_ids = tokenizer.encode(text, allowed_special={\"<|endoftext|>\"})\n",
    "        for i in range(0, len(token_ids)-max_length,stride):\n",
    "            input_chunk = token_ids[i:i+max_length]\n",
    "            target_chunck = token_ids[i+1:i+1+max_length]\n",
    "            self.input_ids.append(torch.tensor(input_chunk))\n",
    "            self.target_ids.append(torch.tensor(target_chunck))\n",
    "    def __len__(self):\n",
    "        return len(self.input_ids)\n",
    "    def __getitem__(self, index):\n",
    "        return self.input_ids[index], self.target_ids[index]"
   ]
  },
  {
   "cell_type": "code",
   "execution_count": 38,
   "id": "9db9a4a8",
   "metadata": {},
   "outputs": [],
   "source": [
    "def create_dataloader(text, batch_size=4, max_length = 256, stride = 256, shuffle = True, drop_last = True, num_workers = 0):\n",
    "    tokenizer = tiktoken.get_encoding(\"gpt2\")\n",
    "    dataset = GPTDatasetV1(text=text, tokenizer=tokenizer,max_length=max_length,stride=stride)\n",
    "    #Creating dataloader\n",
    "    dataloader = DataLoader(dataset=dataset,\n",
    "                            batch_size=batch_size,\n",
    "                            shuffle=shuffle,\n",
    "                            drop_last=drop_last,\n",
    "                            num_workers=num_workers)\n",
    "    return dataloader"
   ]
  },
  {
   "cell_type": "code",
   "execution_count": 39,
   "id": "33d4fd7c",
   "metadata": {},
   "outputs": [],
   "source": [
    "# gpt-2 configurations\n",
    "GPT_CONFIG_124M= {\n",
    "    'vocab_size' :50257,\n",
    "    'context_length': 256,\n",
    "    'emb_dim':768,\n",
    "    'n_heads':12,\n",
    "    'n_layers':12,\n",
    "    'drop_rate':0.1,\n",
    "    'qkv_bias':False\n",
    "}"
   ]
  },
  {
   "cell_type": "code",
   "execution_count": 40,
   "id": "52e2243d",
   "metadata": {},
   "outputs": [],
   "source": [
    "train_ratio = 0.90\n",
    "split_idx = int(train_ratio*len(raw_data))\n",
    "train_data = raw_data[:split_idx]\n",
    "test_data = raw_data[split_idx:]\n",
    "\n",
    "torch.manual_seed(123)\n",
    "train_loader = create_dataloader(\n",
    "    text=train_data,\n",
    "    batch_size=2,\n",
    "    max_length= GPT_CONFIG_124M['context_length'],\n",
    "    stride= GPT_CONFIG_124M['context_length'],\n",
    "    drop_last= True,\n",
    "    shuffle= True,\n",
    "    num_workers=0\n",
    ")\n",
    "\n",
    "val_loader = create_dataloader(\n",
    "    text=test_data,\n",
    "    batch_size=2,\n",
    "    max_length= GPT_CONFIG_124M['context_length'],\n",
    "    stride= GPT_CONFIG_124M['context_length'],\n",
    "    drop_last= True,\n",
    "    shuffle= True,\n",
    "    num_workers=0\n",
    ")"
   ]
  },
  {
   "cell_type": "code",
   "execution_count": 42,
   "id": "2cd71d9a",
   "metadata": {},
   "outputs": [
    {
     "name": "stdout",
     "output_type": "stream",
     "text": [
      "torch.Size([2, 256]) torch.Size([2, 256])\n",
      "torch.Size([2, 256]) torch.Size([2, 256])\n",
      "torch.Size([2, 256]) torch.Size([2, 256])\n",
      "torch.Size([2, 256]) torch.Size([2, 256])\n",
      "torch.Size([2, 256]) torch.Size([2, 256])\n",
      "torch.Size([2, 256]) torch.Size([2, 256])\n",
      "torch.Size([2, 256]) torch.Size([2, 256])\n",
      "torch.Size([2, 256]) torch.Size([2, 256])\n",
      "torch.Size([2, 256]) torch.Size([2, 256])\n",
      "Output shape;\n",
      "torch.Size([2, 256]) torch.Size([2, 256])\n"
     ]
    }
   ],
   "source": [
    "for x,y in train_loader:\n",
    "    print(x.shape, y.shape)\n",
    "print(\"Output shape;\")\n",
    "for x,y in  val_loader:\n",
    "    print(x.shape, y.shape)"
   ]
  },
  {
   "cell_type": "code",
   "execution_count": 43,
   "id": "56602f88",
   "metadata": {},
   "outputs": [
    {
     "name": "stdout",
     "output_type": "stream",
     "text": [
      "Input tokens count: 4608\n",
      "NO of validation token : 512\n",
      "total tokens : 5120\n"
     ]
    }
   ],
   "source": [
    "#counting the train and validation tokens\n",
    "train_token = 0\n",
    "val_token = 0\n",
    "for input_batch, out_batch in train_loader:\n",
    "    train_token += input_batch.numel()\n",
    "for x, y in val_loader:\n",
    "    val_token += x.numel()\n",
    "print(\"Input tokens count:\" , train_token)\n",
    "print(\"NO of validation token :\", val_token)\n",
    "print(\"total tokens :\", train_token+val_token)"
   ]
  },
  {
   "cell_type": "code",
   "execution_count": 45,
   "id": "9f2cd1d2",
   "metadata": {},
   "outputs": [],
   "source": [
    "class GPTModel(nn.Module):\n",
    "    def __init__(self,cfg):\n",
    "        super().__init__()\n",
    "        self.tok_emb = nn.Embedding(cfg['vocab_size'], cfg['emb_dim'])\n",
    "        self.pos_emb = nn.Embedding(cfg['context_length'], cfg['emb_dim'])\n",
    "        self.drop_emb = nn.Dropout(cfg['drop_rate'])\n",
    "        self.trf_blocks = nn.Sequential(*[TransformerBlock(cfg) for _ in range(cfg['n_layers'])])\n",
    "        self.final_norm  = LayerNorm(cfg['emb_dim'])\n",
    "        self.out_head = nn.Linear(cfg['emb_dim'],cfg['vocab_size'], bias=False)\n",
    "    def forward(self,in_idx):\n",
    "        batch_size, seq_len = in_idx.shape\n",
    "        token_embded = self.tok_emb(in_idx)\n",
    "        pos_embded = self.pos_emb(torch.arange(seq_len, device=in_idx.device))\n",
    "        \n",
    "        x = token_embded+pos_embded\n",
    "        x = self.drop_emb(x)\n",
    "        x = self.trf_blocks(x)\n",
    "        x = self.final_norm(x)\n",
    "        logits = self.out_head(x)\n",
    "        return logits\n",
    "\n"
   ]
  },
  {
   "cell_type": "code",
   "execution_count": 47,
   "id": "889155fa",
   "metadata": {},
   "outputs": [],
   "source": [
    "torch.manual_seed(123)\n",
    "model = GPTModel(GPT_CONFIG_124M)\n"
   ]
  },
  {
   "cell_type": "code",
   "execution_count": 48,
   "id": "6476648e",
   "metadata": {},
   "outputs": [],
   "source": [
    "def calc_loss_batch(input_batch,target_batch,model, device):\n",
    "    input_batch , target_batch = input_batch.to(device), target_batch.to(device)\n",
    "    logits = model(input_batch)\n",
    "    loss = torch.nn.functional.cross_entropy(logits.flatten(0,1), target_batch.flatten())\n",
    "    return loss\n",
    "\n",
    "def calc_loss_score( data_loader, model, device, num_batches = None):\n",
    "    total_loss = 0\n",
    "    if len(data_loader) ==0:\n",
    "        return float(\"nan\")\n",
    "    elif num_batches is None:\n",
    "        num_batches = len(data_loader)\n",
    "    else:\n",
    "        num_batches = min(len(data_loader), num_batches)\n",
    "\n",
    "    for i ,(input_batch, target_batch) in enumerate(data_loader):\n",
    "        if i<num_batches:\n",
    "            loss = calc_loss_batch(input_batch=input_batch, target_batch=target_batch, model=model, device=device)\n",
    "            total_loss += loss.item()\n",
    "        else:\n",
    "            break\n",
    "\n",
    "    return total_loss/num_batches\n",
    "            \n",
    "    "
   ]
  },
  {
   "cell_type": "code",
   "execution_count": 49,
   "id": "ec2e7e36",
   "metadata": {},
   "outputs": [],
   "source": [
    "#calculating the loss for both the train_set and the validation_set\n",
    "device = torch.device('cuda' if torch.cuda.is_available() else 'cpu')\n",
    "with torch.no_grad():\n",
    "    train_loss = calc_loss_score(train_loader, model=model, device=device)\n",
    "    val_loss = calc_loss_score(val_loader, model=model, device=device)"
   ]
  },
  {
   "cell_type": "code",
   "execution_count": 51,
   "id": "196418c0",
   "metadata": {},
   "outputs": [
    {
     "name": "stdout",
     "output_type": "stream",
     "text": [
      "train_loss:  10.995637469821506\n",
      "Validation loss 10.996355056762695\n"
     ]
    }
   ],
   "source": [
    "print(\"train_loss: \", train_loss)\n",
    "print(\"Validation loss\", val_loss)"
   ]
  },
  {
   "cell_type": "code",
   "execution_count": 52,
   "id": "353c1895",
   "metadata": {},
   "outputs": [],
   "source": [
    "#calculating the loss for harry potter book\n",
    "\n",
    "with open('01HarryPotterandtheSorcerers.txt', 'r', encoding='utf-8') as f:\n",
    "    harry_potter  = f.read()"
   ]
  },
  {
   "cell_type": "code",
   "execution_count": 53,
   "id": "2c6676e4",
   "metadata": {},
   "outputs": [],
   "source": [
    "train_ratio = 0.90\n",
    "split_idx = int(train_ratio*len(harry_potter))\n",
    "train_data = harry_potter[:split_idx]\n",
    "test_data = harry_potter[split_idx:]\n",
    "\n",
    "torch.manual_seed(123)\n",
    "train_loader = create_dataloader(\n",
    "    text=train_data,\n",
    "    batch_size=2,\n",
    "    max_length= GPT_CONFIG_124M['context_length'],\n",
    "    stride= GPT_CONFIG_124M['context_length'],\n",
    "    drop_last= True,\n",
    "    shuffle= True,\n",
    "    num_workers=0\n",
    ")\n",
    "\n",
    "val_loader = create_dataloader(\n",
    "    text=test_data,\n",
    "    batch_size=2,\n",
    "    max_length= GPT_CONFIG_124M['context_length'],\n",
    "    stride= GPT_CONFIG_124M['context_length'],\n",
    "    drop_last= True,\n",
    "    shuffle= True,\n",
    "    num_workers=0\n",
    ")"
   ]
  },
  {
   "cell_type": "code",
   "execution_count": 54,
   "id": "66c6f9d3",
   "metadata": {},
   "outputs": [],
   "source": [
    "device = torch.device('cuda' if torch.cuda.is_available() else 'cpu')\n",
    "with torch.no_grad():\n",
    "    train_loss = calc_loss_score(train_loader, model=model, device=device)\n",
    "    val_loss = calc_loss_score(val_loader, model=model, device=device)"
   ]
  },
  {
   "cell_type": "code",
   "execution_count": 55,
   "id": "4b43e041",
   "metadata": {},
   "outputs": [
    {
     "name": "stdout",
     "output_type": "stream",
     "text": [
      "train_loss:  10.966798134900014\n",
      "Validation loss 10.9551074107488\n"
     ]
    }
   ],
   "source": [
    "print(\"train_loss: \", train_loss)\n",
    "print(\"Validation loss\", val_loss)"
   ]
  }
 ],
 "metadata": {
  "kernelspec": {
   "display_name": "base",
   "language": "python",
   "name": "python3"
  },
  "language_info": {
   "codemirror_mode": {
    "name": "ipython",
    "version": 3
   },
   "file_extension": ".py",
   "mimetype": "text/x-python",
   "name": "python",
   "nbconvert_exporter": "python",
   "pygments_lexer": "ipython3",
   "version": "3.11.7"
  }
 },
 "nbformat": 4,
 "nbformat_minor": 5
}
